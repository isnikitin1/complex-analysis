{
 "cells": [
  {
   "cell_type": "markdown",
   "id": "4bf7f5aa",
   "metadata": {
    "id": "dBi-MfNgG9IB",
    "papermill": {
     "duration": 0.031206,
     "end_time": "2022-01-20T18:42:09.516610",
     "exception": false,
     "start_time": "2022-01-20T18:42:09.485404",
     "status": "completed"
    },
    "tags": []
   },
   "source": [
    "## Домашняя работа по современным сверточным нейросетям\n",
    "**Kaggle: [competition](https://www.kaggle.com/c/sirius-spbsu-2022-entry-competition), [invite link](https://www.kaggle.com/t/d4064bcb01564f05bc5c0da9d141cd7c)**\n",
    "\n",
    "**Kaggle deadline: 13.02.2022 23:59:00 +0000 GMT**\n",
    "\n",
    "### Описание\n",
    "\n",
    "В этой домашней работе нужно написать сверточную нейронную сеть для классификации изображений.\n",
    "\n",
    "Вам предоставлен измененный датасет The Street View House Numbers ([SVHN](http://ufldl.stanford.edu/housenumbers/)). В нём содержится 50 тысяч (train) + 25 тысяч (test) RGB изображений размера 32х32 c цифрами, вырезанными из реальных фотографий номеров домов.\n",
    "\n",
    "Задача: используя свёрточные нейронные сети, добиться максимальной точности классификации.\n",
    "\n",
    "В данном домашнем задании нет никаких ограничений по архитектуре модели, но реализовывать в PyTorch её надо самим и обучить с нуля только на данном датасете, без внешних данных.\n",
    "\n",
    "### Данные\n",
    "\n",
    "В данном ноутбуке уже есть код для PyTorch, отвечающий за загрузку данных. Ниже приведено краткое описание формата хранения данных.\n",
    "\n",
    "Каждый из файлов — сериализованный с помощью `pickle` c 4-ой версией протокола (которая стала версией по умолчанию в Python 3.8 и старше) python-словарик.\n",
    "\n",
    "Список файлов:\n",
    "\n",
    "- `meta` — метаданные датасета (например, названия классов)\n",
    "- `data_train` — данные для обучения, 50К объектов\n",
    "- `data_test` — данные для теста, 25К объектов, без правильных классов\n",
    "\n",
    "Словарики с данными имеют следующие поля:\n",
    "\n",
    "- `section` — имя части данных (train/test)\n",
    "- `labels` — ground-truth классы, список из `N` чисел от 0 до 9\n",
    "- `images` — numpy-массив размером `(N, 32, 32, 3)` с изображениями\n",
    "\n",
    "### Оценка\n",
    "\n",
    "Качество решения будет оцениваться по метрике accuracy (точность). Accuracy – это количество правильно классифицированных картинок к общему числу картинок в тестовом наборе. Публичный лидерборд рассчитывается по 30% тестовых данных, поэтому старайтесь не переобучаться под него.\n",
    "\n",
    "```\n",
    "accuracy = (correct classified) / (total # of examples)\n",
    "```\n",
    "\n",
    "В качестве решения вы должны прислать файл формата:\n",
    "\n",
    "```\n",
    "Id,Category\n",
    "0, 3\n",
    "1, 2\n",
    "2, 9\n",
    "3, 1\n",
    "...\n",
    "```\n",
    "\n",
    "где:\n",
    "\n",
    "- `Id` — порядковый номер объекта в тестовом датасете\n",
    "- `Category` — предсказанный класс объекта\n",
    "\n",
    "В данном ноутбуке уже есть код, подготавливающий файл решения.\n",
    "\n",
    "### Эксперименты\n",
    "\n",
    "Так как в обучении нейросетевой модели есть очень много различных гиперпараметров, в данном задании нужно будет делать много различных экспериментов. И будет очень полезно, и для вас самих, и для нас, проверяющих, наличие текстового описания всех, или по крайней мере самых интересных/важных в выборе итоговой модели, экспериментов с результатами в финальном ноутбуке. Наличие и подробность описания экспериментов будут входить в итоговую оценку за домашнее задание. Дедлайн на Kaggle специально поставлен немного раньше, чтобы у вас было время спокойно дописать отчет об экспериментах."
   ]
  },
  {
   "cell_type": "markdown",
   "id": "97c6a955",
   "metadata": {
    "id": "Jm6VSsdbG9IK",
    "papermill": {
     "duration": 0.028128,
     "end_time": "2022-01-20T18:42:09.576446",
     "exception": false,
     "start_time": "2022-01-20T18:42:09.548318",
     "status": "completed"
    },
    "tags": []
   },
   "source": [
    "## Решение"
   ]
  },
  {
   "cell_type": "code",
   "execution_count": 1,
   "id": "49640674",
   "metadata": {
    "execution": {
     "iopub.execute_input": "2022-01-20T18:42:09.645533Z",
     "iopub.status.busy": "2022-01-20T18:42:09.644381Z",
     "iopub.status.idle": "2022-01-20T18:42:09.648211Z",
     "shell.execute_reply": "2022-01-20T18:42:09.647708Z",
     "shell.execute_reply.started": "2022-01-20T11:36:13.974619Z"
    },
    "id": "nWUgESjqG9IL",
    "papermill": {
     "duration": 0.04393,
     "end_time": "2022-01-20T18:42:09.648346",
     "exception": false,
     "start_time": "2022-01-20T18:42:09.604416",
     "status": "completed"
    },
    "tags": []
   },
   "outputs": [],
   "source": [
    "import numpy as np\n",
    "import matplotlib.pyplot as plt\n",
    "from tqdm import trange\n",
    "from IPython.display import clear_output"
   ]
  },
  {
   "cell_type": "code",
   "execution_count": 2,
   "id": "f11b7cd3",
   "metadata": {
    "execution": {
     "iopub.execute_input": "2022-01-20T18:42:09.708939Z",
     "iopub.status.busy": "2022-01-20T18:42:09.707775Z",
     "iopub.status.idle": "2022-01-20T18:42:09.710372Z",
     "shell.execute_reply": "2022-01-20T18:42:09.709944Z",
     "shell.execute_reply.started": "2022-01-20T11:36:14.022756Z"
    },
    "id": "wxvsuhDsG9IO",
    "papermill": {
     "duration": 0.033852,
     "end_time": "2022-01-20T18:42:09.710482",
     "exception": false,
     "start_time": "2022-01-20T18:42:09.676630",
     "status": "completed"
    },
    "tags": []
   },
   "outputs": [],
   "source": [
    "import os\n",
    "import pickle\n",
    "from typing import Any, Callable, Optional, Tuple\n",
    "from PIL import Image"
   ]
  },
  {
   "cell_type": "code",
   "execution_count": 3,
   "id": "5ece434b",
   "metadata": {
    "execution": {
     "iopub.execute_input": "2022-01-20T18:42:09.772009Z",
     "iopub.status.busy": "2022-01-20T18:42:09.771382Z",
     "iopub.status.idle": "2022-01-20T18:42:13.573874Z",
     "shell.execute_reply": "2022-01-20T18:42:13.573040Z",
     "shell.execute_reply.started": "2022-01-20T11:36:14.033194Z"
    },
    "id": "I67MDMgqG9IQ",
    "papermill": {
     "duration": 3.835415,
     "end_time": "2022-01-20T18:42:13.574029",
     "exception": false,
     "start_time": "2022-01-20T18:42:09.738614",
     "status": "completed"
    },
    "tags": []
   },
   "outputs": [],
   "source": [
    "import torch\n",
    "from torch import nn\n",
    "from torch.utils.data import DataLoader, random_split\n",
    "from torchvision.transforms import ToTensor, Compose\n",
    "from torchvision.datasets.vision import VisionDataset\n",
    "import torch.nn.functional as F\n",
    "import math\n",
    "import tqdm\n",
    "import albumentations\n",
    "from albumentations.core.transforms_interface import DualTransform\n",
    "from albumentations.pytorch.transforms import ToTensorV2\n",
    "from collections import namedtuple"
   ]
  },
  {
   "cell_type": "markdown",
   "id": "16eace30",
   "metadata": {
    "id": "WZHrDghiG9IR",
    "papermill": {
     "duration": 0.027963,
     "end_time": "2022-01-20T18:42:13.630555",
     "exception": false,
     "start_time": "2022-01-20T18:42:13.602592",
     "status": "completed"
    },
    "tags": []
   },
   "source": [
    "Данные лежат в секции [Data](https://www.kaggle.com/c/sirius-spbsu-2022-entry-competition/data) kaggle-соревнования. <br>\n",
    "Нужно скачать архив с данными и распаковать его. <br>\n",
    "В переменной ниже указываем путь до датасета. <br>"
   ]
  },
  {
   "cell_type": "code",
   "execution_count": 4,
   "id": "3158a2f8",
   "metadata": {
    "execution": {
     "iopub.execute_input": "2022-01-20T18:42:13.693014Z",
     "iopub.status.busy": "2022-01-20T18:42:13.692221Z",
     "iopub.status.idle": "2022-01-20T18:42:13.694215Z",
     "shell.execute_reply": "2022-01-20T18:42:13.694637Z",
     "shell.execute_reply.started": "2022-01-20T11:36:16.691045Z"
    },
    "id": "4NztdwC4G9IS",
    "papermill": {
     "duration": 0.034579,
     "end_time": "2022-01-20T18:42:13.694768",
     "exception": false,
     "start_time": "2022-01-20T18:42:13.660189",
     "status": "completed"
    },
    "tags": []
   },
   "outputs": [],
   "source": [
    "dataset_root = \"/kaggle/input/siriusds/\""
   ]
  },
  {
   "cell_type": "markdown",
   "id": "2ed03a8c",
   "metadata": {
    "id": "KKklLnOuG9IT",
    "papermill": {
     "duration": 0.028522,
     "end_time": "2022-01-20T18:42:13.751940",
     "exception": false,
     "start_time": "2022-01-20T18:42:13.723418",
     "status": "completed"
    },
    "tags": []
   },
   "source": [
    "Код для загрузки измененного датасета SVHN. Аргументы инициализации:\n",
    "\n",
    "- `root` — строка, путь до директории с файлами датасета\n",
    "- `is_train` — флаг, загружать часть для обучения или теста\n",
    "- `transform` — преобразования изображения\n",
    "- `target_transform` — преобразования класса изображения"
   ]
  },
  {
   "cell_type": "code",
   "execution_count": 5,
   "id": "29b83c3c",
   "metadata": {
    "execution": {
     "iopub.execute_input": "2022-01-20T18:42:13.820241Z",
     "iopub.status.busy": "2022-01-20T18:42:13.819458Z",
     "iopub.status.idle": "2022-01-20T18:42:13.821332Z",
     "shell.execute_reply": "2022-01-20T18:42:13.821944Z",
     "shell.execute_reply.started": "2022-01-20T11:36:16.700343Z"
    },
    "id": "qRFxlpiCG9IT",
    "papermill": {
     "duration": 0.042186,
     "end_time": "2022-01-20T18:42:13.822073",
     "exception": false,
     "start_time": "2022-01-20T18:42:13.779887",
     "status": "completed"
    },
    "tags": []
   },
   "outputs": [],
   "source": [
    "class SVHN(VisionDataset):\n",
    "\n",
    "    def __init__(self,\n",
    "                 root: str,\n",
    "                 is_train: bool = True,\n",
    "                 transform: Optional[Callable] = None,\n",
    "                 target_transform: Optional[Callable] = None,\n",
    "                 ) -> None:\n",
    "\n",
    "        super().__init__(root, transform=transform, target_transform=target_transform)\n",
    "        self.is_train = is_train\n",
    "\n",
    "        meta_path = os.path.join(self.root, 'meta')\n",
    "        with open(meta_path, \"rb\") as f:\n",
    "            content = pickle.load(f)\n",
    "            self.classes = content['label_names']\n",
    "            self.class_to_idx = {_class: i for i, _class in enumerate(self.classes)}\n",
    "\n",
    "        data_path = os.path.join(self.root, 'data_train' if is_train else 'data_test')\n",
    "        with open(data_path, \"rb\") as f:\n",
    "            content = pickle.load(f)\n",
    "            self.data = content['images']\n",
    "            self.targets = content.get('labels')\n",
    "\n",
    "    def __getitem__(self, index: int) -> Tuple[Any, Any]:\n",
    "        img = Image.fromarray(self.data[index].astype(np.uint8))\n",
    "        target = self.targets[index] if self.is_train else len(self.classes)\n",
    "        if self.transform is not None:\n",
    "            img = self.transform(img)\n",
    "        if self.target_transform is not None:\n",
    "            target = self.target_transform(target)\n",
    "        return img, target\n",
    "\n",
    "    def __len__(self) -> int:\n",
    "        return len(self.data)\n",
    "        \n",
    "    def extra_repr(self) -> str:\n",
    "        split = \"Train\" if self.train is True else \"Test\"\n",
    "        return f\"Split: {split}\""
   ]
  },
  {
   "cell_type": "markdown",
   "id": "6ca63ffd",
   "metadata": {
    "id": "lg_a30x0G9IW",
    "papermill": {
     "duration": 0.027807,
     "end_time": "2022-01-20T18:42:13.878003",
     "exception": false,
     "start_time": "2022-01-20T18:42:13.850196",
     "status": "completed"
    },
    "tags": []
   },
   "source": [
    "### Загрузка датасета"
   ]
  },
  {
   "cell_type": "markdown",
   "id": "a2b6239e",
   "metadata": {
    "id": "ix4gzjwiG9IW",
    "papermill": {
     "duration": 0.028117,
     "end_time": "2022-01-20T18:42:13.934022",
     "exception": false,
     "start_time": "2022-01-20T18:42:13.905905",
     "status": "completed"
    },
    "tags": []
   },
   "source": [
    "Загружаем часть датасета для обучения."
   ]
  },
  {
   "cell_type": "code",
   "execution_count": 6,
   "id": "d8ca2f35",
   "metadata": {
    "execution": {
     "iopub.execute_input": "2022-01-20T18:42:14.007470Z",
     "iopub.status.busy": "2022-01-20T18:42:14.006454Z",
     "iopub.status.idle": "2022-01-20T18:42:14.008466Z",
     "shell.execute_reply": "2022-01-20T18:42:14.008852Z",
     "shell.execute_reply.started": "2022-01-20T11:36:16.729836Z"
    },
    "papermill": {
     "duration": 0.047211,
     "end_time": "2022-01-20T18:42:14.008981",
     "exception": false,
     "start_time": "2022-01-20T18:42:13.961770",
     "status": "completed"
    },
    "tags": []
   },
   "outputs": [],
   "source": [
    "class CustomCutout(DualTransform):\n",
    "    \"\"\"\n",
    "    Custom Cutout augmentation with handling of bounding boxes \n",
    "    Note: (only supports square cutout regions)\n",
    "    \n",
    "    Author: Kaushal28\n",
    "    Reference: https://arxiv.org/pdf/1708.04552.pdf\n",
    "    \"\"\"\n",
    "    \n",
    "    def __init__(\n",
    "        self,\n",
    "        fill_value=0,\n",
    "        bbox_removal_threshold=0.50,\n",
    "        min_cutout_size=192,\n",
    "        max_cutout_size=512,\n",
    "        always_apply=False,\n",
    "        p=0.5\n",
    "    ):\n",
    "        \"\"\"\n",
    "        Class construstor\n",
    "        \n",
    "        :param fill_value: Value to be filled in cutout (default is 0 or black color)\n",
    "        :param bbox_removal_threshold: Bboxes having content cut by cutout path more than this threshold will be removed\n",
    "        :param min_cutout_size: minimum size of cutout (192 x 192)\n",
    "        :param max_cutout_size: maximum size of cutout (512 x 512)\n",
    "        \"\"\"\n",
    "        super(CustomCutout, self).__init__(always_apply, p)  # Initialize parent class\n",
    "        self.fill_value = fill_value\n",
    "        self.bbox_removal_threshold = bbox_removal_threshold\n",
    "        self.min_cutout_size = min_cutout_size\n",
    "        self.max_cutout_size = max_cutout_size\n",
    "        \n",
    "    def _get_cutout_position(self, img_height, img_width, cutout_size):\n",
    "        \"\"\"\n",
    "        Randomly generates cutout position as a named tuple\n",
    "        \n",
    "        :param img_height: height of the original image\n",
    "        :param img_width: width of the original image\n",
    "        :param cutout_size: size of the cutout patch (square)\n",
    "        :returns position of cutout patch as a named tuple\n",
    "        \"\"\"\n",
    "        position = namedtuple('Point', 'x y')\n",
    "        return position(\n",
    "            np.random.randint(0, img_width - cutout_size + 1),\n",
    "            np.random.randint(0, img_height - cutout_size + 1)\n",
    "        )\n",
    "        \n",
    "    def _get_cutout(self, img_height, img_width):\n",
    "        \"\"\"\n",
    "        Creates a cutout pacth with given fill value and determines the position in the original image\n",
    "        \n",
    "        :param img_height: height of the original image\n",
    "        :param img_width: width of the original image\n",
    "        :returns (cutout patch, cutout size, cutout position)\n",
    "        \"\"\"\n",
    "        cutout_size = np.random.randint(self.min_cutout_size, self.max_cutout_size + 1)\n",
    "        cutout_position = self._get_cutout_position(img_height, img_width, cutout_size)\n",
    "        return np.full((cutout_size, cutout_size, 3), self.fill_value), cutout_size, cutout_position\n",
    "        \n",
    "    def apply(self, image, **params):\n",
    "        \"\"\"\n",
    "        Applies the cutout augmentation on the given image\n",
    "        \n",
    "        :param image: The image to be augmented\n",
    "        :returns augmented image\n",
    "        \"\"\"\n",
    "        image = image.copy()  # Don't change the original image\n",
    "        self.img_height, self.img_width, _ = image.shape\n",
    "        cutout_arr, cutout_size, cutout_pos = self._get_cutout(self.img_height, self.img_width)\n",
    "        \n",
    "        # Set to instance variables to use this later\n",
    "        self.image = image\n",
    "        self.cutout_pos = cutout_pos\n",
    "        self.cutout_size = cutout_size\n",
    "        \n",
    "        image[cutout_pos.y:cutout_pos.y+cutout_size, cutout_pos.x:cutout_size+cutout_pos.x, :] = cutout_arr\n",
    "        return image\n",
    "    \n",
    "    def apply_to_bbox(self, bbox, **params):\n",
    "        \"\"\"\n",
    "        Removes the bounding boxes which are covered by the applied cutout\n",
    "        \n",
    "        :param bbox: A single bounding box coordinates in pascal_voc format\n",
    "        :returns transformed bbox's coordinates\n",
    "        \"\"\"\n",
    "\n",
    "        # Denormalize the bbox coordinates\n",
    "        bbox = denormalize_bbox(bbox, self.img_height, self.img_width)\n",
    "        x_min, y_min, x_max, y_max = tuple(map(int, bbox))\n",
    "\n",
    "        bbox_size = (x_max - x_min) * (y_max - y_min)  # width * height\n",
    "        overlapping_size = np.sum(\n",
    "            (self.image[y_min:y_max, x_min:x_max, 0] == self.fill_value) &\n",
    "            (self.image[y_min:y_max, x_min:x_max, 1] == self.fill_value) &\n",
    "            (self.image[y_min:y_max, x_min:x_max, 2] == self.fill_value)\n",
    "        )\n",
    "\n",
    "        # Remove the bbox if it has more than some threshold of content is inside the cutout patch\n",
    "        if overlapping_size / bbox_size > self.bbox_removal_threshold:\n",
    "            return normalize_bbox((0, 0, 0, 0), self.img_height, self.img_width)\n",
    "\n",
    "        return normalize_bbox(bbox, self.img_height, self.img_width)\n",
    "\n",
    "    def get_transform_init_args_names(self):\n",
    "        \"\"\"\n",
    "        Fetches the parameter(s) of __init__ method\n",
    "        :returns: tuple of parameter(s) of __init__ method\n",
    "        \"\"\"\n",
    "        return ('fill_value', 'bbox_removal_threshold', 'min_cutout_size', 'max_cutout_size', 'always_apply', 'p')"
   ]
  },
  {
   "cell_type": "code",
   "execution_count": 7,
   "id": "61ac8bc6",
   "metadata": {
    "execution": {
     "iopub.execute_input": "2022-01-20T18:42:14.070676Z",
     "iopub.status.busy": "2022-01-20T18:42:14.069964Z",
     "iopub.status.idle": "2022-01-20T18:42:14.072594Z",
     "shell.execute_reply": "2022-01-20T18:42:14.072153Z",
     "shell.execute_reply.started": "2022-01-20T11:36:16.764368Z"
    },
    "papermill": {
     "duration": 0.035188,
     "end_time": "2022-01-20T18:42:14.072703",
     "exception": false,
     "start_time": "2022-01-20T18:42:14.037515",
     "status": "completed"
    },
    "tags": []
   },
   "outputs": [],
   "source": [
    "class Albumentations_mod:\n",
    "    def __init__(self, transforms):\n",
    "        self.transforms = transforms\n",
    "\n",
    "    def __call__(self, img, *args, **kwargs):\n",
    "        return self.transforms(image=np.array(img))['image']"
   ]
  },
  {
   "cell_type": "code",
   "execution_count": 8,
   "id": "5e38b830",
   "metadata": {
    "execution": {
     "iopub.execute_input": "2022-01-20T18:42:14.136594Z",
     "iopub.status.busy": "2022-01-20T18:42:14.135832Z",
     "iopub.status.idle": "2022-01-20T18:42:14.138048Z",
     "shell.execute_reply": "2022-01-20T18:42:14.138461Z",
     "shell.execute_reply.started": "2022-01-20T11:36:16.778355Z"
    },
    "papermill": {
     "duration": 0.037805,
     "end_time": "2022-01-20T18:42:14.138587",
     "exception": false,
     "start_time": "2022-01-20T18:42:14.100782",
     "status": "completed"
    },
    "tags": []
   },
   "outputs": [],
   "source": [
    "train_transform = albumentations.Compose(\n",
    "    [\n",
    "        CustomCutout(fill_value=0, bbox_removal_threshold=0.50, min_cutout_size=6, \n",
    "                     max_cutout_size=10, always_apply=False, p=0.5),\n",
    "        albumentations.augmentations.geometric.rotate.SafeRotate (limit=[-10, 10], interpolation=1, border_mode=4, \n",
    "                                                                  value=None, mask_value=None, always_apply=False, p=0.5),\n",
    "        albumentations.augmentations.transforms.ChannelShuffle(p = 0.5),\n",
    "        albumentations.augmentations.transforms.ColorJitter (brightness=0.2, contrast=0.2, saturation=0.5, \n",
    "                                                             hue=0.2, always_apply=False, p=0.5),\n",
    "        albumentations.augmentations.transforms.GaussNoise (var_limit=(10.0, 50.0), mean=0, \n",
    "                                                            per_channel=True, always_apply=False, p=0.5),\n",
    "        albumentations.augmentations.transforms.Normalize(),\n",
    "        ToTensorV2(),\n",
    "    ]\n",
    ")\n",
    "val_transform = albumentations.Compose(\n",
    "    [\n",
    "        albumentations.augmentations.transforms.Normalize(),\n",
    "        ToTensorV2()\n",
    "    ]\n",
    ")"
   ]
  },
  {
   "cell_type": "code",
   "execution_count": 9,
   "id": "bc2b3eb7",
   "metadata": {
    "execution": {
     "iopub.execute_input": "2022-01-20T18:42:14.199224Z",
     "iopub.status.busy": "2022-01-20T18:42:14.198702Z",
     "iopub.status.idle": "2022-01-20T18:42:23.938008Z",
     "shell.execute_reply": "2022-01-20T18:42:23.936962Z",
     "shell.execute_reply.started": "2022-01-20T11:36:16.799944Z"
    },
    "id": "tP3muPkoG9IX",
    "papermill": {
     "duration": 9.770684,
     "end_time": "2022-01-20T18:42:23.938187",
     "exception": false,
     "start_time": "2022-01-20T18:42:14.167503",
     "status": "completed"
    },
    "tags": []
   },
   "outputs": [],
   "source": [
    "data = SVHN(\n",
    "    root=dataset_root,\n",
    "    is_train=True,\n",
    "    transform=Albumentations_mod(train_transform),\n",
    ")"
   ]
  },
  {
   "cell_type": "markdown",
   "id": "95090216",
   "metadata": {
    "id": "X8lF96VKG9IY",
    "papermill": {
     "duration": 0.027589,
     "end_time": "2022-01-20T18:42:23.994568",
     "exception": false,
     "start_time": "2022-01-20T18:42:23.966979",
     "status": "completed"
    },
    "tags": []
   },
   "source": [
    "Разбиваем случайным образом датасет на обучение и валидацию. <br>\n",
    "На первой части будем обучать модель классификации. <br>\n",
    "На второй части будем оценивать качество во время экспериментов. <br>"
   ]
  },
  {
   "cell_type": "code",
   "execution_count": 10,
   "id": "384fde72",
   "metadata": {
    "execution": {
     "iopub.execute_input": "2022-01-20T18:42:24.055997Z",
     "iopub.status.busy": "2022-01-20T18:42:24.055475Z",
     "iopub.status.idle": "2022-01-20T18:42:24.070363Z",
     "shell.execute_reply": "2022-01-20T18:42:24.069863Z",
     "shell.execute_reply.started": "2022-01-20T11:36:17.997481Z"
    },
    "id": "OIpJTW_cG9IZ",
    "papermill": {
     "duration": 0.047815,
     "end_time": "2022-01-20T18:42:24.070512",
     "exception": false,
     "start_time": "2022-01-20T18:42:24.022697",
     "status": "completed"
    },
    "tags": []
   },
   "outputs": [],
   "source": [
    "train_data, val_data = torch.utils.data.random_split(\n",
    "    data, \n",
    "    [40000, 10000], \n",
    "    generator=torch.Generator().manual_seed(137),\n",
    ")"
   ]
  },
  {
   "cell_type": "markdown",
   "id": "d16a035e",
   "metadata": {
    "id": "jZ5iJsI5G9IZ",
    "papermill": {
     "duration": 0.027698,
     "end_time": "2022-01-20T18:42:24.126368",
     "exception": false,
     "start_time": "2022-01-20T18:42:24.098670",
     "status": "completed"
    },
    "tags": []
   },
   "source": [
    "Инициализируем data loader-ы."
   ]
  },
  {
   "cell_type": "code",
   "execution_count": 11,
   "id": "4a371fc0",
   "metadata": {
    "execution": {
     "iopub.execute_input": "2022-01-20T18:42:24.188913Z",
     "iopub.status.busy": "2022-01-20T18:42:24.188094Z",
     "iopub.status.idle": "2022-01-20T18:42:24.190417Z",
     "shell.execute_reply": "2022-01-20T18:42:24.189881Z",
     "shell.execute_reply.started": "2022-01-20T11:36:18.014732Z"
    },
    "id": "kbOao5e0G9Ia",
    "papermill": {
     "duration": 0.035563,
     "end_time": "2022-01-20T18:42:24.190525",
     "exception": false,
     "start_time": "2022-01-20T18:42:24.154962",
     "status": "completed"
    },
    "tags": []
   },
   "outputs": [],
   "source": [
    "batch_size = 128\n",
    "train_dataloader = DataLoader(train_data, batch_size=batch_size)\n",
    "val_dataloader = DataLoader(val_data, batch_size=batch_size)"
   ]
  },
  {
   "cell_type": "markdown",
   "id": "cd188f66",
   "metadata": {
    "id": "Dv2vksflG9Ia",
    "papermill": {
     "duration": 0.027775,
     "end_time": "2022-01-20T18:42:24.246659",
     "exception": false,
     "start_time": "2022-01-20T18:42:24.218884",
     "status": "completed"
    },
    "tags": []
   },
   "source": [
    "Посмотрим, какой размерности батчи выдает data loader."
   ]
  },
  {
   "cell_type": "code",
   "execution_count": 12,
   "id": "a44ff72f",
   "metadata": {
    "execution": {
     "iopub.execute_input": "2022-01-20T18:42:24.309190Z",
     "iopub.status.busy": "2022-01-20T18:42:24.308674Z",
     "iopub.status.idle": "2022-01-20T18:42:24.459132Z",
     "shell.execute_reply": "2022-01-20T18:42:24.459836Z",
     "shell.execute_reply.started": "2022-01-20T11:36:18.025023Z"
    },
    "id": "XzFCXqL3G9Ib",
    "outputId": "ea5d15a0-9579-4774-fddb-58e182b7d743",
    "papermill": {
     "duration": 0.185359,
     "end_time": "2022-01-20T18:42:24.459975",
     "exception": false,
     "start_time": "2022-01-20T18:42:24.274616",
     "status": "completed"
    },
    "tags": []
   },
   "outputs": [
    {
     "name": "stdout",
     "output_type": "stream",
     "text": [
      "Shape of X [N, C, H, W]:  torch.Size([128, 3, 32, 32])\n",
      "Shape of y:  torch.Size([128]) torch.uint8\n"
     ]
    }
   ],
   "source": [
    "for X, y in train_dataloader:\n",
    "    print(\"Shape of X [N, C, H, W]: \", X.shape)\n",
    "    print(\"Shape of y: \", y.shape, y.dtype)\n",
    "    break"
   ]
  },
  {
   "cell_type": "markdown",
   "id": "3e9dd7f6",
   "metadata": {
    "id": "hmKECcBTG9Ie",
    "papermill": {
     "duration": 0.028066,
     "end_time": "2022-01-20T18:42:24.516615",
     "exception": false,
     "start_time": "2022-01-20T18:42:24.488549",
     "status": "completed"
    },
    "tags": []
   },
   "source": [
    "### Модель классификации"
   ]
  },
  {
   "cell_type": "markdown",
   "id": "50ec5932",
   "metadata": {
    "id": "80PZjHHjG9If",
    "papermill": {
     "duration": 0.028164,
     "end_time": "2022-01-20T18:42:24.573564",
     "exception": false,
     "start_time": "2022-01-20T18:42:24.545400",
     "status": "completed"
    },
    "tags": []
   },
   "source": [
    "Определяем, на каком устройстве будем обучать модель."
   ]
  },
  {
   "cell_type": "code",
   "execution_count": 13,
   "id": "6846535c",
   "metadata": {
    "execution": {
     "iopub.execute_input": "2022-01-20T18:42:24.685989Z",
     "iopub.status.busy": "2022-01-20T18:42:24.685203Z",
     "iopub.status.idle": "2022-01-20T18:42:24.689536Z",
     "shell.execute_reply": "2022-01-20T18:42:24.689055Z",
     "shell.execute_reply.started": "2022-01-20T11:36:18.198292Z"
    },
    "id": "9SJwrIM4G9If",
    "outputId": "4f997206-10b6-456a-a62c-c87e52615b4e",
    "papermill": {
     "duration": 0.087672,
     "end_time": "2022-01-20T18:42:24.689660",
     "exception": false,
     "start_time": "2022-01-20T18:42:24.601988",
     "status": "completed"
    },
    "tags": []
   },
   "outputs": [
    {
     "name": "stdout",
     "output_type": "stream",
     "text": [
      "Using cuda device\n"
     ]
    }
   ],
   "source": [
    "device = \"cuda\" if torch.cuda.is_available() else \"cpu\"\n",
    "print(\"Using {} device\".format(device))"
   ]
  },
  {
   "cell_type": "markdown",
   "id": "79bd838c",
   "metadata": {
    "id": "2HiQD7zZG9Ig",
    "papermill": {
     "duration": 0.028327,
     "end_time": "2022-01-20T18:42:24.746936",
     "exception": false,
     "start_time": "2022-01-20T18:42:24.718609",
     "status": "completed"
    },
    "tags": []
   },
   "source": [
    "Задаем архитектуру модели классификации. <br>\n",
    "Тут большой простор для разных экспериментов. <br>"
   ]
  },
  {
   "cell_type": "code",
   "execution_count": 14,
   "id": "f8e25743",
   "metadata": {
    "execution": {
     "iopub.execute_input": "2022-01-20T18:42:24.826440Z",
     "iopub.status.busy": "2022-01-20T18:42:24.816497Z",
     "iopub.status.idle": "2022-01-20T18:42:24.829251Z",
     "shell.execute_reply": "2022-01-20T18:42:24.828826Z",
     "shell.execute_reply.started": "2022-01-20T11:36:18.231559Z"
    },
    "papermill": {
     "duration": 0.053816,
     "end_time": "2022-01-20T18:42:24.829361",
     "exception": false,
     "start_time": "2022-01-20T18:42:24.775545",
     "status": "completed"
    },
    "tags": []
   },
   "outputs": [],
   "source": [
    "class BasicBlock(nn.Module):\n",
    "    def __init__(self, in_planes, out_planes, stride, dropRate=0.0):\n",
    "        super(BasicBlock, self).__init__()\n",
    "        self.bn1 = nn.BatchNorm2d(in_planes)\n",
    "        self.relu1 = nn.ReLU(inplace=True)\n",
    "        self.conv1 = nn.Conv2d(in_planes, out_planes, kernel_size=3, stride=stride,\n",
    "                               padding=1, bias=False)\n",
    "        self.bn2 = nn.BatchNorm2d(out_planes)\n",
    "        self.relu2 = nn.ReLU(inplace=True)\n",
    "        self.conv2 = nn.Conv2d(out_planes, out_planes, kernel_size=3, stride=1,\n",
    "                               padding=1, bias=False)\n",
    "        self.droprate = dropRate\n",
    "        self.equalInOut = (in_planes == out_planes)\n",
    "        self.convShortcut = (not self.equalInOut) and nn.Conv2d(in_planes, out_planes, kernel_size=1, stride=stride,\n",
    "                               padding=0, bias=False) or None\n",
    "    def forward(self, x):\n",
    "        if not self.equalInOut:\n",
    "            x = self.relu1(self.bn1(x))\n",
    "        else:\n",
    "            out = self.relu1(self.bn1(x))\n",
    "        out = self.relu2(self.bn2(self.conv1(out if self.equalInOut else x)))\n",
    "        if self.droprate > 0:\n",
    "            out = F.dropout(out, p=self.droprate, training=self.training)\n",
    "        out = self.conv2(out)\n",
    "        return torch.add(x if self.equalInOut else self.convShortcut(x), out)\n",
    "\n",
    "class NetworkBlock(nn.Module):\n",
    "    def __init__(self, nb_layers, in_planes, out_planes, block, stride, dropRate=0.0):\n",
    "        super(NetworkBlock, self).__init__()\n",
    "        self.layer = self._make_layer(block, in_planes, out_planes, nb_layers, stride, dropRate)\n",
    "    def _make_layer(self, block, in_planes, out_planes, nb_layers, stride, dropRate):\n",
    "        layers = []\n",
    "        for i in range(nb_layers):\n",
    "            layers.append(block(i == 0 and in_planes or out_planes, out_planes, i == 0 and stride or 1, dropRate))\n",
    "        return nn.Sequential(*layers)\n",
    "    def forward(self, x):\n",
    "        return self.layer(x)\n",
    "\n",
    "class WideResNet(nn.Module):\n",
    "    def __init__(self, depth, num_classes, widen_factor=1, dropRate=0.0):\n",
    "        super(WideResNet, self).__init__()\n",
    "        nChannels = [16, 16*widen_factor, 32*widen_factor, 64*widen_factor]\n",
    "        assert((depth - 4) % 6 == 0)\n",
    "        n = int((depth - 4) / 6)\n",
    "        block = BasicBlock\n",
    "        # 1st conv before any network block\n",
    "        self.conv1 = nn.Conv2d(3, nChannels[0], kernel_size=3, stride=1,\n",
    "                               padding=1, bias=False)\n",
    "        # 1st block\n",
    "        self.block1 = NetworkBlock(n, nChannels[0], nChannels[1], block, 1, dropRate)\n",
    "        # 2nd block\n",
    "        self.block2 = NetworkBlock(n, nChannels[1], nChannels[2], block, 2, dropRate)\n",
    "        # 3rd block\n",
    "        self.block3 = NetworkBlock(n, nChannels[2], nChannels[3], block, 2, dropRate)\n",
    "        # global average pooling and classifier\n",
    "        self.bn1 = nn.BatchNorm2d(nChannels[3])\n",
    "        self.relu = nn.ReLU(inplace=True)\n",
    "        self.fc = nn.Linear(nChannels[3], num_classes)\n",
    "        self.nChannels = nChannels[3]\n",
    "\n",
    "        for m in self.modules():\n",
    "            if isinstance(m, nn.Conv2d):\n",
    "                n = m.kernel_size[0] * m.kernel_size[1] * m.out_channels\n",
    "                m.weight.data.normal_(0, math.sqrt(2. / n))\n",
    "            elif isinstance(m, nn.BatchNorm2d):\n",
    "                m.weight.data.fill_(1)\n",
    "                m.bias.data.zero_()\n",
    "            elif isinstance(m, nn.Linear):\n",
    "                m.bias.data.zero_()\n",
    "    def forward(self, x):\n",
    "        out = self.conv1(x)\n",
    "        out = self.block1(out)\n",
    "        out = self.block2(out)\n",
    "        out = self.block3(out)\n",
    "        out = self.relu(self.bn1(out))\n",
    "\n",
    "        out = F.avg_pool2d(out, 8)\n",
    "        out = out.view(-1, self.nChannels)\n",
    "        out = self.fc(out)\n",
    "        return out"
   ]
  },
  {
   "cell_type": "code",
   "execution_count": 15,
   "id": "6448d6bf",
   "metadata": {
    "execution": {
     "iopub.execute_input": "2022-01-20T18:42:24.893351Z",
     "iopub.status.busy": "2022-01-20T18:42:24.892682Z",
     "iopub.status.idle": "2022-01-20T18:42:25.477767Z",
     "shell.execute_reply": "2022-01-20T18:42:25.477185Z",
     "shell.execute_reply.started": "2022-01-20T11:36:18.278452Z"
    },
    "id": "r8lGtmI9G9Ig",
    "papermill": {
     "duration": 0.619577,
     "end_time": "2022-01-20T18:42:25.477913",
     "exception": false,
     "start_time": "2022-01-20T18:42:24.858336",
     "status": "completed"
    },
    "tags": []
   },
   "outputs": [],
   "source": [
    "model = WideResNet(depth=28, num_classes=10, widen_factor=10,\n",
    "                         dropRate=0.4)"
   ]
  },
  {
   "cell_type": "markdown",
   "id": "79893778",
   "metadata": {
    "id": "qxMV3wsBG9Ih",
    "papermill": {
     "duration": 0.028237,
     "end_time": "2022-01-20T18:42:25.535158",
     "exception": false,
     "start_time": "2022-01-20T18:42:25.506921",
     "status": "completed"
    },
    "tags": []
   },
   "source": [
    "Отправляем модель на выбранное устройство."
   ]
  },
  {
   "cell_type": "code",
   "execution_count": 16,
   "id": "31163fd8",
   "metadata": {
    "execution": {
     "iopub.execute_input": "2022-01-20T18:42:25.598306Z",
     "iopub.status.busy": "2022-01-20T18:42:25.597633Z",
     "iopub.status.idle": "2022-01-20T18:42:28.512853Z",
     "shell.execute_reply": "2022-01-20T18:42:28.513398Z",
     "shell.execute_reply.started": "2022-01-20T11:36:19.366912Z"
    },
    "id": "YtFrQZR_G9Ih",
    "outputId": "887e9989-1e9b-4741-b11a-216424924595",
    "papermill": {
     "duration": 2.949785,
     "end_time": "2022-01-20T18:42:28.513555",
     "exception": false,
     "start_time": "2022-01-20T18:42:25.563770",
     "status": "completed"
    },
    "tags": []
   },
   "outputs": [
    {
     "name": "stdout",
     "output_type": "stream",
     "text": [
      "WideResNet(\n",
      "  (conv1): Conv2d(3, 16, kernel_size=(3, 3), stride=(1, 1), padding=(1, 1), bias=False)\n",
      "  (block1): NetworkBlock(\n",
      "    (layer): Sequential(\n",
      "      (0): BasicBlock(\n",
      "        (bn1): BatchNorm2d(16, eps=1e-05, momentum=0.1, affine=True, track_running_stats=True)\n",
      "        (relu1): ReLU(inplace=True)\n",
      "        (conv1): Conv2d(16, 160, kernel_size=(3, 3), stride=(1, 1), padding=(1, 1), bias=False)\n",
      "        (bn2): BatchNorm2d(160, eps=1e-05, momentum=0.1, affine=True, track_running_stats=True)\n",
      "        (relu2): ReLU(inplace=True)\n",
      "        (conv2): Conv2d(160, 160, kernel_size=(3, 3), stride=(1, 1), padding=(1, 1), bias=False)\n",
      "        (convShortcut): Conv2d(16, 160, kernel_size=(1, 1), stride=(1, 1), bias=False)\n",
      "      )\n",
      "      (1): BasicBlock(\n",
      "        (bn1): BatchNorm2d(160, eps=1e-05, momentum=0.1, affine=True, track_running_stats=True)\n",
      "        (relu1): ReLU(inplace=True)\n",
      "        (conv1): Conv2d(160, 160, kernel_size=(3, 3), stride=(1, 1), padding=(1, 1), bias=False)\n",
      "        (bn2): BatchNorm2d(160, eps=1e-05, momentum=0.1, affine=True, track_running_stats=True)\n",
      "        (relu2): ReLU(inplace=True)\n",
      "        (conv2): Conv2d(160, 160, kernel_size=(3, 3), stride=(1, 1), padding=(1, 1), bias=False)\n",
      "      )\n",
      "      (2): BasicBlock(\n",
      "        (bn1): BatchNorm2d(160, eps=1e-05, momentum=0.1, affine=True, track_running_stats=True)\n",
      "        (relu1): ReLU(inplace=True)\n",
      "        (conv1): Conv2d(160, 160, kernel_size=(3, 3), stride=(1, 1), padding=(1, 1), bias=False)\n",
      "        (bn2): BatchNorm2d(160, eps=1e-05, momentum=0.1, affine=True, track_running_stats=True)\n",
      "        (relu2): ReLU(inplace=True)\n",
      "        (conv2): Conv2d(160, 160, kernel_size=(3, 3), stride=(1, 1), padding=(1, 1), bias=False)\n",
      "      )\n",
      "      (3): BasicBlock(\n",
      "        (bn1): BatchNorm2d(160, eps=1e-05, momentum=0.1, affine=True, track_running_stats=True)\n",
      "        (relu1): ReLU(inplace=True)\n",
      "        (conv1): Conv2d(160, 160, kernel_size=(3, 3), stride=(1, 1), padding=(1, 1), bias=False)\n",
      "        (bn2): BatchNorm2d(160, eps=1e-05, momentum=0.1, affine=True, track_running_stats=True)\n",
      "        (relu2): ReLU(inplace=True)\n",
      "        (conv2): Conv2d(160, 160, kernel_size=(3, 3), stride=(1, 1), padding=(1, 1), bias=False)\n",
      "      )\n",
      "    )\n",
      "  )\n",
      "  (block2): NetworkBlock(\n",
      "    (layer): Sequential(\n",
      "      (0): BasicBlock(\n",
      "        (bn1): BatchNorm2d(160, eps=1e-05, momentum=0.1, affine=True, track_running_stats=True)\n",
      "        (relu1): ReLU(inplace=True)\n",
      "        (conv1): Conv2d(160, 320, kernel_size=(3, 3), stride=(2, 2), padding=(1, 1), bias=False)\n",
      "        (bn2): BatchNorm2d(320, eps=1e-05, momentum=0.1, affine=True, track_running_stats=True)\n",
      "        (relu2): ReLU(inplace=True)\n",
      "        (conv2): Conv2d(320, 320, kernel_size=(3, 3), stride=(1, 1), padding=(1, 1), bias=False)\n",
      "        (convShortcut): Conv2d(160, 320, kernel_size=(1, 1), stride=(2, 2), bias=False)\n",
      "      )\n",
      "      (1): BasicBlock(\n",
      "        (bn1): BatchNorm2d(320, eps=1e-05, momentum=0.1, affine=True, track_running_stats=True)\n",
      "        (relu1): ReLU(inplace=True)\n",
      "        (conv1): Conv2d(320, 320, kernel_size=(3, 3), stride=(1, 1), padding=(1, 1), bias=False)\n",
      "        (bn2): BatchNorm2d(320, eps=1e-05, momentum=0.1, affine=True, track_running_stats=True)\n",
      "        (relu2): ReLU(inplace=True)\n",
      "        (conv2): Conv2d(320, 320, kernel_size=(3, 3), stride=(1, 1), padding=(1, 1), bias=False)\n",
      "      )\n",
      "      (2): BasicBlock(\n",
      "        (bn1): BatchNorm2d(320, eps=1e-05, momentum=0.1, affine=True, track_running_stats=True)\n",
      "        (relu1): ReLU(inplace=True)\n",
      "        (conv1): Conv2d(320, 320, kernel_size=(3, 3), stride=(1, 1), padding=(1, 1), bias=False)\n",
      "        (bn2): BatchNorm2d(320, eps=1e-05, momentum=0.1, affine=True, track_running_stats=True)\n",
      "        (relu2): ReLU(inplace=True)\n",
      "        (conv2): Conv2d(320, 320, kernel_size=(3, 3), stride=(1, 1), padding=(1, 1), bias=False)\n",
      "      )\n",
      "      (3): BasicBlock(\n",
      "        (bn1): BatchNorm2d(320, eps=1e-05, momentum=0.1, affine=True, track_running_stats=True)\n",
      "        (relu1): ReLU(inplace=True)\n",
      "        (conv1): Conv2d(320, 320, kernel_size=(3, 3), stride=(1, 1), padding=(1, 1), bias=False)\n",
      "        (bn2): BatchNorm2d(320, eps=1e-05, momentum=0.1, affine=True, track_running_stats=True)\n",
      "        (relu2): ReLU(inplace=True)\n",
      "        (conv2): Conv2d(320, 320, kernel_size=(3, 3), stride=(1, 1), padding=(1, 1), bias=False)\n",
      "      )\n",
      "    )\n",
      "  )\n",
      "  (block3): NetworkBlock(\n",
      "    (layer): Sequential(\n",
      "      (0): BasicBlock(\n",
      "        (bn1): BatchNorm2d(320, eps=1e-05, momentum=0.1, affine=True, track_running_stats=True)\n",
      "        (relu1): ReLU(inplace=True)\n",
      "        (conv1): Conv2d(320, 640, kernel_size=(3, 3), stride=(2, 2), padding=(1, 1), bias=False)\n",
      "        (bn2): BatchNorm2d(640, eps=1e-05, momentum=0.1, affine=True, track_running_stats=True)\n",
      "        (relu2): ReLU(inplace=True)\n",
      "        (conv2): Conv2d(640, 640, kernel_size=(3, 3), stride=(1, 1), padding=(1, 1), bias=False)\n",
      "        (convShortcut): Conv2d(320, 640, kernel_size=(1, 1), stride=(2, 2), bias=False)\n",
      "      )\n",
      "      (1): BasicBlock(\n",
      "        (bn1): BatchNorm2d(640, eps=1e-05, momentum=0.1, affine=True, track_running_stats=True)\n",
      "        (relu1): ReLU(inplace=True)\n",
      "        (conv1): Conv2d(640, 640, kernel_size=(3, 3), stride=(1, 1), padding=(1, 1), bias=False)\n",
      "        (bn2): BatchNorm2d(640, eps=1e-05, momentum=0.1, affine=True, track_running_stats=True)\n",
      "        (relu2): ReLU(inplace=True)\n",
      "        (conv2): Conv2d(640, 640, kernel_size=(3, 3), stride=(1, 1), padding=(1, 1), bias=False)\n",
      "      )\n",
      "      (2): BasicBlock(\n",
      "        (bn1): BatchNorm2d(640, eps=1e-05, momentum=0.1, affine=True, track_running_stats=True)\n",
      "        (relu1): ReLU(inplace=True)\n",
      "        (conv1): Conv2d(640, 640, kernel_size=(3, 3), stride=(1, 1), padding=(1, 1), bias=False)\n",
      "        (bn2): BatchNorm2d(640, eps=1e-05, momentum=0.1, affine=True, track_running_stats=True)\n",
      "        (relu2): ReLU(inplace=True)\n",
      "        (conv2): Conv2d(640, 640, kernel_size=(3, 3), stride=(1, 1), padding=(1, 1), bias=False)\n",
      "      )\n",
      "      (3): BasicBlock(\n",
      "        (bn1): BatchNorm2d(640, eps=1e-05, momentum=0.1, affine=True, track_running_stats=True)\n",
      "        (relu1): ReLU(inplace=True)\n",
      "        (conv1): Conv2d(640, 640, kernel_size=(3, 3), stride=(1, 1), padding=(1, 1), bias=False)\n",
      "        (bn2): BatchNorm2d(640, eps=1e-05, momentum=0.1, affine=True, track_running_stats=True)\n",
      "        (relu2): ReLU(inplace=True)\n",
      "        (conv2): Conv2d(640, 640, kernel_size=(3, 3), stride=(1, 1), padding=(1, 1), bias=False)\n",
      "      )\n",
      "    )\n",
      "  )\n",
      "  (bn1): BatchNorm2d(640, eps=1e-05, momentum=0.1, affine=True, track_running_stats=True)\n",
      "  (relu): ReLU(inplace=True)\n",
      "  (fc): Linear(in_features=640, out_features=10, bias=True)\n",
      ")\n"
     ]
    }
   ],
   "source": [
    "model = model.to(device)\n",
    "print(model)"
   ]
  },
  {
   "cell_type": "markdown",
   "id": "8b0d4961",
   "metadata": {
    "id": "Y5wEN_6BG9Ih",
    "papermill": {
     "duration": 0.037514,
     "end_time": "2022-01-20T18:42:28.583084",
     "exception": false,
     "start_time": "2022-01-20T18:42:28.545570",
     "status": "completed"
    },
    "tags": []
   },
   "source": [
    "### Обучение"
   ]
  },
  {
   "cell_type": "markdown",
   "id": "d731c934",
   "metadata": {
    "id": "o-1WWgnxG9Ii",
    "papermill": {
     "duration": 0.029187,
     "end_time": "2022-01-20T18:42:28.641454",
     "exception": false,
     "start_time": "2022-01-20T18:42:28.612267",
     "status": "completed"
    },
    "tags": []
   },
   "source": [
    "Задаем функцию потерь (цель оптимизации) и оптимизатор."
   ]
  },
  {
   "cell_type": "code",
   "execution_count": 17,
   "id": "c972d616",
   "metadata": {
    "execution": {
     "iopub.execute_input": "2022-01-20T18:42:28.706436Z",
     "iopub.status.busy": "2022-01-20T18:42:28.705575Z",
     "iopub.status.idle": "2022-01-20T18:42:28.708269Z",
     "shell.execute_reply": "2022-01-20T18:42:28.707713Z",
     "shell.execute_reply.started": "2022-01-20T11:36:23.260953Z"
    },
    "id": "yY7CXtMYG9Ii",
    "papermill": {
     "duration": 0.037741,
     "end_time": "2022-01-20T18:42:28.708379",
     "exception": false,
     "start_time": "2022-01-20T18:42:28.670638",
     "status": "completed"
    },
    "tags": []
   },
   "outputs": [],
   "source": [
    "loss_fn = nn.CrossEntropyLoss()\n",
    "optimizer = torch.optim.SGD(model.parameters(), lr=0.1,\n",
    "                                momentum=0.9, nesterov=True, weight_decay=5e-4)\n",
    "scheduler = torch.optim.lr_scheduler.MultiStepLR(optimizer, milestones=[25,40,55,70,85], gamma=0.2)"
   ]
  },
  {
   "cell_type": "markdown",
   "id": "551210ab",
   "metadata": {
    "id": "pMNO54CZG9Ii",
    "papermill": {
     "duration": 0.028896,
     "end_time": "2022-01-20T18:42:28.767954",
     "exception": false,
     "start_time": "2022-01-20T18:42:28.739058",
     "status": "completed"
    },
    "tags": []
   },
   "source": [
    "Код для визуализации процесса обучения.\n",
    "\n",
    "Каждые `interval` шагов оптимизации и в конце эпох мы записываем значения функции потерь и метрик в лог. <br>\n",
    "Затем вызовом функции `show_progress` обновляем график обучения. <br>"
   ]
  },
  {
   "cell_type": "code",
   "execution_count": 18,
   "id": "eab3f19e",
   "metadata": {
    "execution": {
     "iopub.execute_input": "2022-01-20T18:42:28.831958Z",
     "iopub.status.busy": "2022-01-20T18:42:28.831185Z",
     "iopub.status.idle": "2022-01-20T18:42:28.833150Z",
     "shell.execute_reply": "2022-01-20T18:42:28.833661Z",
     "shell.execute_reply.started": "2022-01-20T11:36:23.274519Z"
    },
    "id": "rFWRUYv7G9Ik",
    "papermill": {
     "duration": 0.036474,
     "end_time": "2022-01-20T18:42:28.833814",
     "exception": false,
     "start_time": "2022-01-20T18:42:28.797340",
     "status": "completed"
    },
    "tags": []
   },
   "outputs": [],
   "source": [
    "# Training logs\n",
    "interval = 100\n",
    "train_ts, train_loss = [], []\n",
    "val_ts, val_loss, val_acc = [], [], []"
   ]
  },
  {
   "cell_type": "code",
   "execution_count": 19,
   "id": "6e755d4b",
   "metadata": {
    "execution": {
     "iopub.execute_input": "2022-01-20T18:42:28.900445Z",
     "iopub.status.busy": "2022-01-20T18:42:28.899749Z",
     "iopub.status.idle": "2022-01-20T18:42:28.902362Z",
     "shell.execute_reply": "2022-01-20T18:42:28.901901Z",
     "shell.execute_reply.started": "2022-01-20T11:36:23.290438Z"
    },
    "id": "UBMWEFpBG9Ik",
    "papermill": {
     "duration": 0.038955,
     "end_time": "2022-01-20T18:42:28.902470",
     "exception": false,
     "start_time": "2022-01-20T18:42:28.863515",
     "status": "completed"
    },
    "tags": []
   },
   "outputs": [],
   "source": [
    "def show_progress(t):\n",
    "    clear_output(wait=True)\n",
    "    fig, (ax1, ax2) = plt.subplots(1, 2, constrained_layout=True, figsize=(20, 5))\n",
    "    fig.suptitle(f'Epoch {t:3.3f}', fontsize=16)\n",
    "    ax1.set_title('loss')\n",
    "    ax1.set_xlabel('time (epochs)')\n",
    "    ax1.set_ylabel('loss')\n",
    "    ax1.plot(train_ts, train_loss, c='darkblue', lw=3)\n",
    "    ax1.plot(val_ts, val_loss, c='green', marker='o', lw=5)\n",
    "    ax2.set_title('accuracy')\n",
    "    ax2.set_xlabel('time (epochs)')\n",
    "    ax2.plot(val_ts, val_acc, c='green', marker='o', lw=5)\n",
    "    DL = {'epoch': val_ts, 'val_accuracy': val_acc}\n",
    "    v = [dict(zip(DL,t)) for t in zip(*DL.values())]\n",
    "    print(v)\n",
    "    plt.show()            "
   ]
  },
  {
   "cell_type": "code",
   "execution_count": 20,
   "id": "587ca85d",
   "metadata": {
    "execution": {
     "iopub.execute_input": "2022-01-20T18:42:28.968156Z",
     "iopub.status.busy": "2022-01-20T18:42:28.967274Z",
     "iopub.status.idle": "2022-01-20T18:42:28.969127Z",
     "shell.execute_reply": "2022-01-20T18:42:28.969610Z",
     "shell.execute_reply.started": "2022-01-20T11:36:23.303466Z"
    },
    "id": "J73Mczw8G9Il",
    "papermill": {
     "duration": 0.038087,
     "end_time": "2022-01-20T18:42:28.969728",
     "exception": false,
     "start_time": "2022-01-20T18:42:28.931641",
     "status": "completed"
    },
    "tags": []
   },
   "outputs": [],
   "source": [
    "def train(epoch, dataloader, model, loss_fn, optimizer):\n",
    "    model.train()\n",
    "    num_batches = len(dataloader)\n",
    "    for batch, (X, y) in enumerate(dataloader):\n",
    "        # Send data to training device\n",
    "        y = y.type(torch.LongTensor)\n",
    "        X, y = X.to(device), y.to(device)\n",
    "        # Compute prediction error\n",
    "        pred = model(X)\n",
    "        loss = loss_fn(pred, y)\n",
    "        # Backpropagation\n",
    "        optimizer.zero_grad()\n",
    "        loss.backward()\n",
    "        optimizer.step()\n",
    "        # Progress output\n",
    "        if batch % interval == 0:\n",
    "            t = epoch + (batch + 1)/num_batches\n",
    "            train_ts.append(t)\n",
    "            train_loss.append(loss.item())\n",
    "            show_progress(t)\n",
    "    return train_loss[-1]\n",
    "            "
   ]
  },
  {
   "cell_type": "code",
   "execution_count": 21,
   "id": "9d8164f8",
   "metadata": {
    "execution": {
     "iopub.execute_input": "2022-01-20T18:42:29.037658Z",
     "iopub.status.busy": "2022-01-20T18:42:29.036812Z",
     "iopub.status.idle": "2022-01-20T18:42:29.038939Z",
     "shell.execute_reply": "2022-01-20T18:42:29.039375Z",
     "shell.execute_reply.started": "2022-01-20T11:36:23.314734Z"
    },
    "id": "q0JV_05_G9Il",
    "papermill": {
     "duration": 0.039451,
     "end_time": "2022-01-20T18:42:29.039498",
     "exception": false,
     "start_time": "2022-01-20T18:42:29.000047",
     "status": "completed"
    },
    "tags": []
   },
   "outputs": [],
   "source": [
    "def test(epoch, dataloader, model, loss_fn):\n",
    "    model.eval()\n",
    "    num_batches = len(dataloader)\n",
    "    size = len(dataloader.dataset)\n",
    "    test_loss, correct = 0, 0\n",
    "    with torch.no_grad():\n",
    "        for X, y in dataloader:\n",
    "            y = y.type(torch.LongTensor)\n",
    "            X, y = X.to(device), y.to(device)\n",
    "            pred = model(X)\n",
    "            test_loss += loss_fn(pred, y).item()\n",
    "            correct += (pred.argmax(1) == y).type(torch.float).sum().item()\n",
    "    test_loss /= num_batches\n",
    "    correct /= size\n",
    "    val_ts.append(epoch+1)\n",
    "    val_loss.append(test_loss)\n",
    "    val_acc.append(correct)\n",
    "    show_progress(epoch+1)\n",
    "    print('val accuracy:',np.round(correct, 5))\n",
    "    return test_loss, correct"
   ]
  },
  {
   "cell_type": "markdown",
   "id": "f292d579",
   "metadata": {
    "id": "1PTeo8aKG9Il",
    "papermill": {
     "duration": 0.029055,
     "end_time": "2022-01-20T18:42:29.097787",
     "exception": false,
     "start_time": "2022-01-20T18:42:29.068732",
     "status": "completed"
    },
    "tags": []
   },
   "source": [
    "Цикл обучения."
   ]
  },
  {
   "cell_type": "code",
   "execution_count": 22,
   "id": "20c80710",
   "metadata": {
    "execution": {
     "iopub.execute_input": "2022-01-20T18:42:29.161736Z",
     "iopub.status.busy": "2022-01-20T18:42:29.161036Z",
     "iopub.status.idle": "2022-01-21T01:12:44.970413Z",
     "shell.execute_reply": "2022-01-21T01:12:44.969890Z",
     "shell.execute_reply.started": "2022-01-20T11:36:23.327288Z"
    },
    "id": "CAPMHsGhG9Im",
    "outputId": "a0a75bf6-2b37-4f70-dc68-de6ea1944e23",
    "papermill": {
     "duration": 23415.843726,
     "end_time": "2022-01-21T01:12:44.970542",
     "exception": false,
     "start_time": "2022-01-20T18:42:29.126816",
     "status": "completed"
    },
    "tags": []
   },
   "outputs": [
    {
     "name": "stdout",
     "output_type": "stream",
     "text": [
      "[{'epoch': 1, 'val_accuracy': 0.1903}, {'epoch': 2, 'val_accuracy': 0.4599}, {'epoch': 3, 'val_accuracy': 0.7301}, {'epoch': 4, 'val_accuracy': 0.7981}, {'epoch': 5, 'val_accuracy': 0.8363}, {'epoch': 6, 'val_accuracy': 0.8624}, {'epoch': 7, 'val_accuracy': 0.8534}, {'epoch': 8, 'val_accuracy': 0.8643}, {'epoch': 9, 'val_accuracy': 0.8736}, {'epoch': 10, 'val_accuracy': 0.8716}, {'epoch': 11, 'val_accuracy': 0.866}, {'epoch': 12, 'val_accuracy': 0.8863}, {'epoch': 13, 'val_accuracy': 0.8779}, {'epoch': 14, 'val_accuracy': 0.8729}, {'epoch': 15, 'val_accuracy': 0.8766}, {'epoch': 16, 'val_accuracy': 0.8745}, {'epoch': 17, 'val_accuracy': 0.8794}, {'epoch': 18, 'val_accuracy': 0.8913}, {'epoch': 19, 'val_accuracy': 0.8716}, {'epoch': 20, 'val_accuracy': 0.8878}, {'epoch': 21, 'val_accuracy': 0.865}, {'epoch': 22, 'val_accuracy': 0.8849}, {'epoch': 23, 'val_accuracy': 0.8799}, {'epoch': 24, 'val_accuracy': 0.8663}, {'epoch': 25, 'val_accuracy': 0.868}, {'epoch': 26, 'val_accuracy': 0.9337}, {'epoch': 27, 'val_accuracy': 0.932}, {'epoch': 28, 'val_accuracy': 0.9331}, {'epoch': 29, 'val_accuracy': 0.9294}, {'epoch': 30, 'val_accuracy': 0.9326}, {'epoch': 31, 'val_accuracy': 0.9312}, {'epoch': 32, 'val_accuracy': 0.931}, {'epoch': 33, 'val_accuracy': 0.9311}, {'epoch': 34, 'val_accuracy': 0.9322}, {'epoch': 35, 'val_accuracy': 0.932}, {'epoch': 36, 'val_accuracy': 0.9335}, {'epoch': 37, 'val_accuracy': 0.9313}, {'epoch': 38, 'val_accuracy': 0.9252}, {'epoch': 39, 'val_accuracy': 0.9317}, {'epoch': 40, 'val_accuracy': 0.9247}, {'epoch': 41, 'val_accuracy': 0.9454}, {'epoch': 42, 'val_accuracy': 0.9434}, {'epoch': 43, 'val_accuracy': 0.9444}, {'epoch': 44, 'val_accuracy': 0.944}, {'epoch': 45, 'val_accuracy': 0.9437}, {'epoch': 46, 'val_accuracy': 0.9445}, {'epoch': 47, 'val_accuracy': 0.9453}, {'epoch': 48, 'val_accuracy': 0.949}, {'epoch': 49, 'val_accuracy': 0.9464}, {'epoch': 50, 'val_accuracy': 0.9463}, {'epoch': 51, 'val_accuracy': 0.9441}, {'epoch': 52, 'val_accuracy': 0.946}, {'epoch': 53, 'val_accuracy': 0.9451}, {'epoch': 54, 'val_accuracy': 0.9449}, {'epoch': 55, 'val_accuracy': 0.9436}, {'epoch': 56, 'val_accuracy': 0.9472}, {'epoch': 57, 'val_accuracy': 0.9456}, {'epoch': 58, 'val_accuracy': 0.9497}, {'epoch': 59, 'val_accuracy': 0.9497}, {'epoch': 60, 'val_accuracy': 0.9494}, {'epoch': 61, 'val_accuracy': 0.9491}, {'epoch': 62, 'val_accuracy': 0.9494}, {'epoch': 63, 'val_accuracy': 0.9506}, {'epoch': 64, 'val_accuracy': 0.9492}, {'epoch': 65, 'val_accuracy': 0.9476}, {'epoch': 66, 'val_accuracy': 0.9493}, {'epoch': 67, 'val_accuracy': 0.9454}, {'epoch': 68, 'val_accuracy': 0.9487}, {'epoch': 69, 'val_accuracy': 0.9475}, {'epoch': 70, 'val_accuracy': 0.9479}, {'epoch': 71, 'val_accuracy': 0.9491}, {'epoch': 72, 'val_accuracy': 0.9494}, {'epoch': 73, 'val_accuracy': 0.9486}, {'epoch': 74, 'val_accuracy': 0.9485}, {'epoch': 75, 'val_accuracy': 0.9473}, {'epoch': 76, 'val_accuracy': 0.9479}, {'epoch': 77, 'val_accuracy': 0.9496}, {'epoch': 78, 'val_accuracy': 0.949}, {'epoch': 79, 'val_accuracy': 0.9502}, {'epoch': 80, 'val_accuracy': 0.9489}, {'epoch': 81, 'val_accuracy': 0.9512}, {'epoch': 82, 'val_accuracy': 0.948}, {'epoch': 83, 'val_accuracy': 0.9484}, {'epoch': 84, 'val_accuracy': 0.9513}, {'epoch': 85, 'val_accuracy': 0.9491}, {'epoch': 86, 'val_accuracy': 0.9489}, {'epoch': 87, 'val_accuracy': 0.9496}, {'epoch': 88, 'val_accuracy': 0.9502}, {'epoch': 89, 'val_accuracy': 0.9499}, {'epoch': 90, 'val_accuracy': 0.9467}, {'epoch': 91, 'val_accuracy': 0.9493}, {'epoch': 92, 'val_accuracy': 0.9489}, {'epoch': 93, 'val_accuracy': 0.9519}, {'epoch': 94, 'val_accuracy': 0.946}, {'epoch': 95, 'val_accuracy': 0.9493}, {'epoch': 96, 'val_accuracy': 0.95}, {'epoch': 97, 'val_accuracy': 0.9528}, {'epoch': 98, 'val_accuracy': 0.947}, {'epoch': 99, 'val_accuracy': 0.9494}, {'epoch': 100, 'val_accuracy': 0.9493}]\n"
     ]
    },
    {
     "data": {
      "image/png": "[encoded data removed]",
      "text/plain": [
       "<Figure size 1440x360 with 2 Axes>"
      ]
     },
     "metadata": {
      "needs_background": "light"
     },
     "output_type": "display_data"
    },
    {
     "name": "stderr",
     "output_type": "stream",
     "text": [
      "100%|██████████| 100/100 [6:30:15<00:00, 234.16s/it]"
     ]
    },
    {
     "name": "stdout",
     "output_type": "stream",
     "text": [
      "val accuracy: 0.9493\n"
     ]
    },
    {
     "name": "stderr",
     "output_type": "stream",
     "text": [
      "\n"
     ]
    }
   ],
   "source": [
    "epochs = 100\n",
    "best_acc = 0\n",
    "for t in trange(epochs):\n",
    "    print(f'Epoch: {t}')\n",
    "    tr_loss = train(t, train_dataloader, model, loss_fn, optimizer)\n",
    "    v_loss, v_acc = test(t, val_dataloader, model, loss_fn)\n",
    "    scheduler.step()\n",
    "    if (v_acc > best_acc):\n",
    "        best_acc = v_acc\n",
    "        torch.save(model.state_dict(), \"weights.pth\")"
   ]
  },
  {
   "cell_type": "markdown",
   "id": "fe97bd14",
   "metadata": {
    "id": "iZ-Tyj3-G9Im",
    "papermill": {
     "duration": 0.03182,
     "end_time": "2022-01-21T01:12:45.034292",
     "exception": false,
     "start_time": "2022-01-21T01:12:45.002472",
     "status": "completed"
    },
    "tags": []
   },
   "source": [
    "### Отправка решения"
   ]
  },
  {
   "cell_type": "markdown",
   "id": "86f4c940",
   "metadata": {
    "id": "_PtkIkUsG9Im",
    "papermill": {
     "duration": 0.034754,
     "end_time": "2022-01-21T01:12:45.101327",
     "exception": false,
     "start_time": "2022-01-21T01:12:45.066573",
     "status": "completed"
    },
    "tags": []
   },
   "source": [
    "Загружаем часть датасета для теста."
   ]
  },
  {
   "cell_type": "code",
   "execution_count": 23,
   "id": "b0d8ca5b",
   "metadata": {
    "execution": {
     "iopub.execute_input": "2022-01-21T01:12:45.173548Z",
     "iopub.status.busy": "2022-01-21T01:12:45.172976Z",
     "iopub.status.idle": "2022-01-21T01:12:51.087891Z",
     "shell.execute_reply": "2022-01-21T01:12:51.086921Z",
     "shell.execute_reply.started": "2022-01-20T18:20:06.96549Z"
    },
    "id": "ZrogskJDG9Im",
    "papermill": {
     "duration": 5.95243,
     "end_time": "2022-01-21T01:12:51.088049",
     "exception": false,
     "start_time": "2022-01-21T01:12:45.135619",
     "status": "completed"
    },
    "tags": []
   },
   "outputs": [],
   "source": [
    "test_data = SVHN(\n",
    "    root=dataset_root,\n",
    "    is_train=False,\n",
    "    transform=Albumentations_mod(val_transform),\n",
    ")"
   ]
  },
  {
   "cell_type": "code",
   "execution_count": 24,
   "id": "0c6eb897",
   "metadata": {
    "execution": {
     "iopub.execute_input": "2022-01-21T01:12:51.158863Z",
     "iopub.status.busy": "2022-01-21T01:12:51.158051Z",
     "iopub.status.idle": "2022-01-21T01:12:51.160667Z",
     "shell.execute_reply": "2022-01-21T01:12:51.160216Z",
     "shell.execute_reply.started": "2022-01-20T18:20:12.619605Z"
    },
    "id": "XTREMaKBG9Io",
    "papermill": {
     "duration": 0.03945,
     "end_time": "2022-01-21T01:12:51.160774",
     "exception": false,
     "start_time": "2022-01-21T01:12:51.121324",
     "status": "completed"
    },
    "tags": []
   },
   "outputs": [],
   "source": [
    "test_dataloader = DataLoader(\n",
    "    test_data, \n",
    "    batch_size=batch_size,\n",
    ")"
   ]
  },
  {
   "cell_type": "markdown",
   "id": "17ff394c",
   "metadata": {
    "id": "i63WwoOdG9Io",
    "papermill": {
     "duration": 0.031834,
     "end_time": "2022-01-21T01:12:51.224566",
     "exception": false,
     "start_time": "2022-01-21T01:12:51.192732",
     "status": "completed"
    },
    "tags": []
   },
   "source": [
    "Делаем предсказания итоговой моделью."
   ]
  },
  {
   "cell_type": "code",
   "execution_count": 25,
   "id": "9e230834",
   "metadata": {
    "execution": {
     "iopub.execute_input": "2022-01-21T01:12:51.294122Z",
     "iopub.status.busy": "2022-01-21T01:12:51.293173Z",
     "iopub.status.idle": "2022-01-21T01:13:40.275104Z",
     "shell.execute_reply": "2022-01-21T01:13:40.274614Z",
     "shell.execute_reply.started": "2022-01-20T18:20:12.633872Z"
    },
    "id": "bYVwjcUYG9Io",
    "papermill": {
     "duration": 49.018647,
     "end_time": "2022-01-21T01:13:40.275285",
     "exception": false,
     "start_time": "2022-01-21T01:12:51.256638",
     "status": "completed"
    },
    "tags": []
   },
   "outputs": [],
   "source": [
    "predictions = []\n",
    "\n",
    "model.eval()\n",
    "with torch.no_grad():\n",
    "    for X, _ in test_dataloader:\n",
    "        X = X.to(device)\n",
    "        pred = model(X).argmax(1).cpu().numpy()\n",
    "        predictions.extend(list(pred))"
   ]
  },
  {
   "cell_type": "markdown",
   "id": "b7d9ef92",
   "metadata": {
    "id": "uViY1xXtG9Ip",
    "papermill": {
     "duration": 0.031913,
     "end_time": "2022-01-21T01:13:40.340143",
     "exception": false,
     "start_time": "2022-01-21T01:13:40.308230",
     "status": "completed"
    },
    "tags": []
   },
   "source": [
    "Формируем файл решения для отправки в kaggle."
   ]
  },
  {
   "cell_type": "code",
   "execution_count": 26,
   "id": "7e670b5b",
   "metadata": {
    "execution": {
     "iopub.execute_input": "2022-01-21T01:13:40.421231Z",
     "iopub.status.busy": "2022-01-21T01:13:40.420308Z",
     "iopub.status.idle": "2022-01-21T01:13:40.449449Z",
     "shell.execute_reply": "2022-01-21T01:13:40.448911Z",
     "shell.execute_reply.started": "2022-01-20T18:21:59.528895Z"
    },
    "id": "pO4QZrCgG9Ip",
    "papermill": {
     "duration": 0.072006,
     "end_time": "2022-01-21T01:13:40.449582",
     "exception": false,
     "start_time": "2022-01-21T01:13:40.377576",
     "status": "completed"
    },
    "tags": []
   },
   "outputs": [],
   "source": [
    "def write_solution(filename, labels):\n",
    "    with open(filename, 'w') as solution:\n",
    "        print('Id,Category', file=solution)\n",
    "        for i, label in enumerate(labels):\n",
    "            print(f'{i},{label}', file=solution)\n",
    "            \n",
    "write_solution('solution.csv', predictions)"
   ]
  },
  {
   "cell_type": "code",
   "execution_count": null,
   "id": "841a1403",
   "metadata": {
    "papermill": {
     "duration": 0.036288,
     "end_time": "2022-01-21T01:13:40.522054",
     "exception": false,
     "start_time": "2022-01-21T01:13:40.485766",
     "status": "completed"
    },
    "tags": []
   },
   "outputs": [],
   "source": []
  },
  {
   "cell_type": "code",
   "execution_count": null,
   "id": "b51ec233",
   "metadata": {
    "papermill": {
     "duration": 0.036707,
     "end_time": "2022-01-21T01:13:40.594943",
     "exception": false,
     "start_time": "2022-01-21T01:13:40.558236",
     "status": "completed"
    },
    "tags": []
   },
   "outputs": [],
   "source": []
  }
 ],
 "metadata": {
  "kernelspec": {
   "display_name": "Python 3",
   "language": "python",
   "name": "python3"
  },
  "language_info": {
   "codemirror_mode": {
    "name": "ipython",
    "version": 3
   },
   "file_extension": ".py",
   "mimetype": "text/x-python",
   "name": "python",
   "nbconvert_exporter": "python",
   "pygments_lexer": "ipython3",
   "version": "3.7.12"
  },
  "papermill": {
   "default_parameters": {},
   "duration": 23501.460499,
   "end_time": "2022-01-21T01:13:42.282820",
   "environment_variables": {},
   "exception": null,
   "input_path": "__notebook__.ipynb",
   "output_path": "__notebook__.ipynb",
   "parameters": {},
   "start_time": "2022-01-20T18:42:00.822321",
   "version": "2.3.3"
  }
 },
 "nbformat": 4,
 "nbformat_minor": 5
}
